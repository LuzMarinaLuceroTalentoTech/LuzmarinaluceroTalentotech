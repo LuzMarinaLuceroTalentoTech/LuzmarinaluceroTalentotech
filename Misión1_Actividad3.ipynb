{
  "nbformat": 4,
  "nbformat_minor": 0,
  "metadata": {
    "colab": {
      "provenance": []
    },
    "kernelspec": {
      "name": "python3",
      "display_name": "Python 3"
    },
    "language_info": {
      "name": "python"
    }
  },
  "cells": [
    {
      "cell_type": "code",
      "source": [
        "# Función para separar los números pares e impares\n",
        "def separar_pares_impares():\n",
        "    numeros_pares = []\n",
        "    numeros_impares = []\n",
        "\n",
        "    for num in range(1, 21):\n",
        "        if num % 2 == 0:\n",
        "            numeros_pares.append(num)\n",
        "        else:\n",
        "            numeros_impares.append(num)\n",
        "\n",
        "    return numeros_pares, numeros_impares\n",
        "\n",
        "# Función para imprimir la lista de números de diferentes formas\n",
        "def imprimir_lista(lista, titulo):\n",
        "    print(f\"\\n{titulo}:\")\n",
        "\n",
        "    # Imprimir lista completa\n",
        "    print(\"Lista completa:\", lista)\n",
        "\n",
        "    # Imprimir usando un bucle for\n",
        "    print(\"Imprimir con bucle for:\")\n",
        "    for num in lista:\n",
        "        print(num, end=\" \")\n",
        "\n",
        "    # Imprimir con la función join() (solo para cadenas de texto)\n",
        "    print(\"\\nImprimir con join():\")\n",
        "    print(\", \".join(map(str, lista)))\n",
        "\n",
        "# Llamar a la función que separa los números pares e impares\n",
        "pares, impares = separar_pares_impares()\n",
        "\n",
        "# Imprimir las listas de diferentes formas\n",
        "imprimir_lista(pares, \"Números Pares\")\n",
        "imprimir_lista(impares, \"Números Impares\")\n"
      ],
      "metadata": {
        "colab": {
          "base_uri": "https://localhost:8080/"
        },
        "id": "l5tBXYTf6Co1",
        "outputId": "7b1a148a-72f4-45c1-d976-d83aedd61c8c"
      },
      "execution_count": null,
      "outputs": [
        {
          "output_type": "stream",
          "name": "stdout",
          "text": [
            "\n",
            "Números Pares:\n",
            "Lista completa: [2, 4, 6, 8, 10, 12, 14, 16, 18, 20]\n",
            "Imprimir con bucle for:\n",
            "2 4 6 8 10 12 14 16 18 20 \n",
            "Imprimir con join():\n",
            "2, 4, 6, 8, 10, 12, 14, 16, 18, 20\n",
            "\n",
            "Números Impares:\n",
            "Lista completa: [1, 3, 5, 7, 9, 11, 13, 15, 17, 19]\n",
            "Imprimir con bucle for:\n",
            "1 3 5 7 9 11 13 15 17 19 \n",
            "Imprimir con join():\n",
            "1, 3, 5, 7, 9, 11, 13, 15, 17, 19\n"
          ]
        }
      ]
    },
    {
      "cell_type": "code",
      "source": [
        "import pandas as pd\n",
        "\n",
        "# Crear un DataFrame con los datos\n",
        "data = {\n",
        "    \"Producto\": [\"Marcadores\", \"Lapiceros\", \"Cuadernos\", \"Borradores\"],\n",
        "    \"Cantidad\": [5, 10, 3, 2],\n",
        "    \"Precio Unitario\": [1.50, 0.75, 2.00, 0.50]\n",
        "}\n",
        "\n",
        "df = pd.DataFrame(data)\n",
        "\n",
        "# Guardar el DataFrame en un archivo CSV\n",
        "df.to_csv('factura_estudio.csv', index=False)\n",
        "\n",
        "# Mostrar el contenido del archivo para verificar\n",
        "df\n",
        "from google.colab import files\n",
        "\n",
        "# Descargar el archivo CSV\n",
        "files.download('factura_estudio.csv')"
      ],
      "metadata": {
        "colab": {
          "base_uri": "https://localhost:8080/",
          "height": 17
        },
        "id": "3p7A4xUZPE-4",
        "outputId": "ac783d39-0d56-4b38-ece1-46bbbefd72ff"
      },
      "execution_count": null,
      "outputs": [
        {
          "output_type": "display_data",
          "data": {
            "text/plain": [
              "<IPython.core.display.Javascript object>"
            ],
            "application/javascript": [
              "\n",
              "    async function download(id, filename, size) {\n",
              "      if (!google.colab.kernel.accessAllowed) {\n",
              "        return;\n",
              "      }\n",
              "      const div = document.createElement('div');\n",
              "      const label = document.createElement('label');\n",
              "      label.textContent = `Downloading \"${filename}\": `;\n",
              "      div.appendChild(label);\n",
              "      const progress = document.createElement('progress');\n",
              "      progress.max = size;\n",
              "      div.appendChild(progress);\n",
              "      document.body.appendChild(div);\n",
              "\n",
              "      const buffers = [];\n",
              "      let downloaded = 0;\n",
              "\n",
              "      const channel = await google.colab.kernel.comms.open(id);\n",
              "      // Send a message to notify the kernel that we're ready.\n",
              "      channel.send({})\n",
              "\n",
              "      for await (const message of channel.messages) {\n",
              "        // Send a message to notify the kernel that we're ready.\n",
              "        channel.send({})\n",
              "        if (message.buffers) {\n",
              "          for (const buffer of message.buffers) {\n",
              "            buffers.push(buffer);\n",
              "            downloaded += buffer.byteLength;\n",
              "            progress.value = downloaded;\n",
              "          }\n",
              "        }\n",
              "      }\n",
              "      const blob = new Blob(buffers, {type: 'application/binary'});\n",
              "      const a = document.createElement('a');\n",
              "      a.href = window.URL.createObjectURL(blob);\n",
              "      a.download = filename;\n",
              "      div.appendChild(a);\n",
              "      a.click();\n",
              "      div.remove();\n",
              "    }\n",
              "  "
            ]
          },
          "metadata": {}
        },
        {
          "output_type": "display_data",
          "data": {
            "text/plain": [
              "<IPython.core.display.Javascript object>"
            ],
            "application/javascript": [
              "download(\"download_88a20e22-83fd-4c61-9fce-890f33bd1822\", \"factura_estudio.csv\", 102)"
            ]
          },
          "metadata": {}
        }
      ]
    },
    {
      "cell_type": "code",
      "source": [
        "import csv\n",
        "\n",
        "# Datos para guardar en CSV\n",
        "data = [\n",
        "    [\"Producto\", \"Cantidad\", \"Precio Unitario\"],\n",
        "    [\"Marcadores\", 5, 1.50],\n",
        "    [\"Lapiceros\", 10, 0.75],\n",
        "    [\"Cuadernos\", 3, 2.00],\n",
        "    [\"Borradores\", 2, 0.50]\n",
        "]\n",
        "\n",
        "# Crear el archivo CSV\n",
        "with open('factura_estudio.csv', 'w', newline='') as file:\n",
        "    writer = csv.writer(file)\n",
        "    writer.writerows(data)\n",
        "\n",
        "# Descargar el archivo CSV\n",
        "files.download('factura_estudio.csv')"
      ],
      "metadata": {
        "id": "NLPYcslYUUmM",
        "outputId": "d1f88899-7fe1-4c7a-861f-9e546539826d",
        "colab": {
          "base_uri": "https://localhost:8080/",
          "height": 17
        }
      },
      "execution_count": null,
      "outputs": [
        {
          "output_type": "display_data",
          "data": {
            "text/plain": [
              "<IPython.core.display.Javascript object>"
            ],
            "application/javascript": [
              "\n",
              "    async function download(id, filename, size) {\n",
              "      if (!google.colab.kernel.accessAllowed) {\n",
              "        return;\n",
              "      }\n",
              "      const div = document.createElement('div');\n",
              "      const label = document.createElement('label');\n",
              "      label.textContent = `Downloading \"${filename}\": `;\n",
              "      div.appendChild(label);\n",
              "      const progress = document.createElement('progress');\n",
              "      progress.max = size;\n",
              "      div.appendChild(progress);\n",
              "      document.body.appendChild(div);\n",
              "\n",
              "      const buffers = [];\n",
              "      let downloaded = 0;\n",
              "\n",
              "      const channel = await google.colab.kernel.comms.open(id);\n",
              "      // Send a message to notify the kernel that we're ready.\n",
              "      channel.send({})\n",
              "\n",
              "      for await (const message of channel.messages) {\n",
              "        // Send a message to notify the kernel that we're ready.\n",
              "        channel.send({})\n",
              "        if (message.buffers) {\n",
              "          for (const buffer of message.buffers) {\n",
              "            buffers.push(buffer);\n",
              "            downloaded += buffer.byteLength;\n",
              "            progress.value = downloaded;\n",
              "          }\n",
              "        }\n",
              "      }\n",
              "      const blob = new Blob(buffers, {type: 'application/binary'});\n",
              "      const a = document.createElement('a');\n",
              "      a.href = window.URL.createObjectURL(blob);\n",
              "      a.download = filename;\n",
              "      div.appendChild(a);\n",
              "      a.click();\n",
              "      div.remove();\n",
              "    }\n",
              "  "
            ]
          },
          "metadata": {}
        },
        {
          "output_type": "display_data",
          "data": {
            "text/plain": [
              "<IPython.core.display.Javascript object>"
            ],
            "application/javascript": [
              "download(\"download_f6a28a74-2e71-4445-b854-f4d76f3f92db\", \"factura_estudio.csv\", 107)"
            ]
          },
          "metadata": {}
        }
      ]
    },
    {
      "cell_type": "markdown",
      "source": [
        "# Nueva sección"
      ],
      "metadata": {
        "id": "fSoKLdbNTPdp"
      }
    }
  ]
}