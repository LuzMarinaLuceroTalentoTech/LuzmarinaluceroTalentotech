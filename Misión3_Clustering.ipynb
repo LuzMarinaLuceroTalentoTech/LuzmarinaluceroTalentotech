{
  "cells": [
    {
      "cell_type": "code",
      "source": [
        "import pandas as pd\n",
        "from sklearn import datasets\n",
        "\n",
        "# Cargar el dataset Iris desde scikit-learn\n",
        "iris = datasets.load_iris()\n",
        "\n",
        "# Convertirlo en un DataFrame\n",
        "df = pd.DataFrame(iris.data, columns=iris.feature_names)\n",
        "df['species'] = iris.target\n",
        "\n",
        "# Mapear los números de especies a nombres\n",
        "df['species'] = df['species'].map({0: 'setosa', 1: 'versicolor', 2: 'virginica'})\n",
        "\n",
        "# Mostrar las primeras filas\n",
        "df.head()"
      ],
      "metadata": {
        "colab": {
          "base_uri": "https://localhost:8080/",
          "height": 206
        },
        "id": "ZZLq7SwPHmzE",
        "outputId": "ef47a43f-79f5-4c90-d62f-abcedca832d1"
      },
      "execution_count": null,
      "outputs": [
        {
          "output_type": "execute_result",
          "data": {
            "text/plain": [
              "   sepal length (cm)  sepal width (cm)  petal length (cm)  petal width (cm)  \\\n",
              "0                5.1               3.5                1.4               0.2   \n",
              "1                4.9               3.0                1.4               0.2   \n",
              "2                4.7               3.2                1.3               0.2   \n",
              "3                4.6               3.1                1.5               0.2   \n",
              "4                5.0               3.6                1.4               0.2   \n",
              "\n",
              "  species  \n",
              "0  setosa  \n",
              "1  setosa  \n",
              "2  setosa  \n",
              "3  setosa  \n",
              "4  setosa  "
            ],
            "text/html": [
              "\n",
              "  <div id=\"df-62441209-f675-4264-98c5-a3041852b4af\" class=\"colab-df-container\">\n",
              "    <div>\n",
              "<style scoped>\n",
              "    .dataframe tbody tr th:only-of-type {\n",
              "        vertical-align: middle;\n",
              "    }\n",
              "\n",
              "    .dataframe tbody tr th {\n",
              "        vertical-align: top;\n",
              "    }\n",
              "\n",
              "    .dataframe thead th {\n",
              "        text-align: right;\n",
              "    }\n",
              "</style>\n",
              "<table border=\"1\" class=\"dataframe\">\n",
              "  <thead>\n",
              "    <tr style=\"text-align: right;\">\n",
              "      <th></th>\n",
              "      <th>sepal length (cm)</th>\n",
              "      <th>sepal width (cm)</th>\n",
              "      <th>petal length (cm)</th>\n",
              "      <th>petal width (cm)</th>\n",
              "      <th>species</th>\n",
              "    </tr>\n",
              "  </thead>\n",
              "  <tbody>\n",
              "    <tr>\n",
              "      <th>0</th>\n",
              "      <td>5.1</td>\n",
              "      <td>3.5</td>\n",
              "      <td>1.4</td>\n",
              "      <td>0.2</td>\n",
              "      <td>setosa</td>\n",
              "    </tr>\n",
              "    <tr>\n",
              "      <th>1</th>\n",
              "      <td>4.9</td>\n",
              "      <td>3.0</td>\n",
              "      <td>1.4</td>\n",
              "      <td>0.2</td>\n",
              "      <td>setosa</td>\n",
              "    </tr>\n",
              "    <tr>\n",
              "      <th>2</th>\n",
              "      <td>4.7</td>\n",
              "      <td>3.2</td>\n",
              "      <td>1.3</td>\n",
              "      <td>0.2</td>\n",
              "      <td>setosa</td>\n",
              "    </tr>\n",
              "    <tr>\n",
              "      <th>3</th>\n",
              "      <td>4.6</td>\n",
              "      <td>3.1</td>\n",
              "      <td>1.5</td>\n",
              "      <td>0.2</td>\n",
              "      <td>setosa</td>\n",
              "    </tr>\n",
              "    <tr>\n",
              "      <th>4</th>\n",
              "      <td>5.0</td>\n",
              "      <td>3.6</td>\n",
              "      <td>1.4</td>\n",
              "      <td>0.2</td>\n",
              "      <td>setosa</td>\n",
              "    </tr>\n",
              "  </tbody>\n",
              "</table>\n",
              "</div>\n",
              "    <div class=\"colab-df-buttons\">\n",
              "\n",
              "  <div class=\"colab-df-container\">\n",
              "    <button class=\"colab-df-convert\" onclick=\"convertToInteractive('df-62441209-f675-4264-98c5-a3041852b4af')\"\n",
              "            title=\"Convert this dataframe to an interactive table.\"\n",
              "            style=\"display:none;\">\n",
              "\n",
              "  <svg xmlns=\"http://www.w3.org/2000/svg\" height=\"24px\" viewBox=\"0 -960 960 960\">\n",
              "    <path d=\"M120-120v-720h720v720H120Zm60-500h600v-160H180v160Zm220 220h160v-160H400v160Zm0 220h160v-160H400v160ZM180-400h160v-160H180v160Zm440 0h160v-160H620v160ZM180-180h160v-160H180v160Zm440 0h160v-160H620v160Z\"/>\n",
              "  </svg>\n",
              "    </button>\n",
              "\n",
              "  <style>\n",
              "    .colab-df-container {\n",
              "      display:flex;\n",
              "      gap: 12px;\n",
              "    }\n",
              "\n",
              "    .colab-df-convert {\n",
              "      background-color: #E8F0FE;\n",
              "      border: none;\n",
              "      border-radius: 50%;\n",
              "      cursor: pointer;\n",
              "      display: none;\n",
              "      fill: #1967D2;\n",
              "      height: 32px;\n",
              "      padding: 0 0 0 0;\n",
              "      width: 32px;\n",
              "    }\n",
              "\n",
              "    .colab-df-convert:hover {\n",
              "      background-color: #E2EBFA;\n",
              "      box-shadow: 0px 1px 2px rgba(60, 64, 67, 0.3), 0px 1px 3px 1px rgba(60, 64, 67, 0.15);\n",
              "      fill: #174EA6;\n",
              "    }\n",
              "\n",
              "    .colab-df-buttons div {\n",
              "      margin-bottom: 4px;\n",
              "    }\n",
              "\n",
              "    [theme=dark] .colab-df-convert {\n",
              "      background-color: #3B4455;\n",
              "      fill: #D2E3FC;\n",
              "    }\n",
              "\n",
              "    [theme=dark] .colab-df-convert:hover {\n",
              "      background-color: #434B5C;\n",
              "      box-shadow: 0px 1px 3px 1px rgba(0, 0, 0, 0.15);\n",
              "      filter: drop-shadow(0px 1px 2px rgba(0, 0, 0, 0.3));\n",
              "      fill: #FFFFFF;\n",
              "    }\n",
              "  </style>\n",
              "\n",
              "    <script>\n",
              "      const buttonEl =\n",
              "        document.querySelector('#df-62441209-f675-4264-98c5-a3041852b4af button.colab-df-convert');\n",
              "      buttonEl.style.display =\n",
              "        google.colab.kernel.accessAllowed ? 'block' : 'none';\n",
              "\n",
              "      async function convertToInteractive(key) {\n",
              "        const element = document.querySelector('#df-62441209-f675-4264-98c5-a3041852b4af');\n",
              "        const dataTable =\n",
              "          await google.colab.kernel.invokeFunction('convertToInteractive',\n",
              "                                                    [key], {});\n",
              "        if (!dataTable) return;\n",
              "\n",
              "        const docLinkHtml = 'Like what you see? Visit the ' +\n",
              "          '<a target=\"_blank\" href=https://colab.research.google.com/notebooks/data_table.ipynb>data table notebook</a>'\n",
              "          + ' to learn more about interactive tables.';\n",
              "        element.innerHTML = '';\n",
              "        dataTable['output_type'] = 'display_data';\n",
              "        await google.colab.output.renderOutput(dataTable, element);\n",
              "        const docLink = document.createElement('div');\n",
              "        docLink.innerHTML = docLinkHtml;\n",
              "        element.appendChild(docLink);\n",
              "      }\n",
              "    </script>\n",
              "  </div>\n",
              "\n",
              "\n",
              "<div id=\"df-c2b26225-cfca-4aa7-842d-ab939820c63b\">\n",
              "  <button class=\"colab-df-quickchart\" onclick=\"quickchart('df-c2b26225-cfca-4aa7-842d-ab939820c63b')\"\n",
              "            title=\"Suggest charts\"\n",
              "            style=\"display:none;\">\n",
              "\n",
              "<svg xmlns=\"http://www.w3.org/2000/svg\" height=\"24px\"viewBox=\"0 0 24 24\"\n",
              "     width=\"24px\">\n",
              "    <g>\n",
              "        <path d=\"M19 3H5c-1.1 0-2 .9-2 2v14c0 1.1.9 2 2 2h14c1.1 0 2-.9 2-2V5c0-1.1-.9-2-2-2zM9 17H7v-7h2v7zm4 0h-2V7h2v10zm4 0h-2v-4h2v4z\"/>\n",
              "    </g>\n",
              "</svg>\n",
              "  </button>\n",
              "\n",
              "<style>\n",
              "  .colab-df-quickchart {\n",
              "      --bg-color: #E8F0FE;\n",
              "      --fill-color: #1967D2;\n",
              "      --hover-bg-color: #E2EBFA;\n",
              "      --hover-fill-color: #174EA6;\n",
              "      --disabled-fill-color: #AAA;\n",
              "      --disabled-bg-color: #DDD;\n",
              "  }\n",
              "\n",
              "  [theme=dark] .colab-df-quickchart {\n",
              "      --bg-color: #3B4455;\n",
              "      --fill-color: #D2E3FC;\n",
              "      --hover-bg-color: #434B5C;\n",
              "      --hover-fill-color: #FFFFFF;\n",
              "      --disabled-bg-color: #3B4455;\n",
              "      --disabled-fill-color: #666;\n",
              "  }\n",
              "\n",
              "  .colab-df-quickchart {\n",
              "    background-color: var(--bg-color);\n",
              "    border: none;\n",
              "    border-radius: 50%;\n",
              "    cursor: pointer;\n",
              "    display: none;\n",
              "    fill: var(--fill-color);\n",
              "    height: 32px;\n",
              "    padding: 0;\n",
              "    width: 32px;\n",
              "  }\n",
              "\n",
              "  .colab-df-quickchart:hover {\n",
              "    background-color: var(--hover-bg-color);\n",
              "    box-shadow: 0 1px 2px rgba(60, 64, 67, 0.3), 0 1px 3px 1px rgba(60, 64, 67, 0.15);\n",
              "    fill: var(--button-hover-fill-color);\n",
              "  }\n",
              "\n",
              "  .colab-df-quickchart-complete:disabled,\n",
              "  .colab-df-quickchart-complete:disabled:hover {\n",
              "    background-color: var(--disabled-bg-color);\n",
              "    fill: var(--disabled-fill-color);\n",
              "    box-shadow: none;\n",
              "  }\n",
              "\n",
              "  .colab-df-spinner {\n",
              "    border: 2px solid var(--fill-color);\n",
              "    border-color: transparent;\n",
              "    border-bottom-color: var(--fill-color);\n",
              "    animation:\n",
              "      spin 1s steps(1) infinite;\n",
              "  }\n",
              "\n",
              "  @keyframes spin {\n",
              "    0% {\n",
              "      border-color: transparent;\n",
              "      border-bottom-color: var(--fill-color);\n",
              "      border-left-color: var(--fill-color);\n",
              "    }\n",
              "    20% {\n",
              "      border-color: transparent;\n",
              "      border-left-color: var(--fill-color);\n",
              "      border-top-color: var(--fill-color);\n",
              "    }\n",
              "    30% {\n",
              "      border-color: transparent;\n",
              "      border-left-color: var(--fill-color);\n",
              "      border-top-color: var(--fill-color);\n",
              "      border-right-color: var(--fill-color);\n",
              "    }\n",
              "    40% {\n",
              "      border-color: transparent;\n",
              "      border-right-color: var(--fill-color);\n",
              "      border-top-color: var(--fill-color);\n",
              "    }\n",
              "    60% {\n",
              "      border-color: transparent;\n",
              "      border-right-color: var(--fill-color);\n",
              "    }\n",
              "    80% {\n",
              "      border-color: transparent;\n",
              "      border-right-color: var(--fill-color);\n",
              "      border-bottom-color: var(--fill-color);\n",
              "    }\n",
              "    90% {\n",
              "      border-color: transparent;\n",
              "      border-bottom-color: var(--fill-color);\n",
              "    }\n",
              "  }\n",
              "</style>\n",
              "\n",
              "  <script>\n",
              "    async function quickchart(key) {\n",
              "      const quickchartButtonEl =\n",
              "        document.querySelector('#' + key + ' button');\n",
              "      quickchartButtonEl.disabled = true;  // To prevent multiple clicks.\n",
              "      quickchartButtonEl.classList.add('colab-df-spinner');\n",
              "      try {\n",
              "        const charts = await google.colab.kernel.invokeFunction(\n",
              "            'suggestCharts', [key], {});\n",
              "      } catch (error) {\n",
              "        console.error('Error during call to suggestCharts:', error);\n",
              "      }\n",
              "      quickchartButtonEl.classList.remove('colab-df-spinner');\n",
              "      quickchartButtonEl.classList.add('colab-df-quickchart-complete');\n",
              "    }\n",
              "    (() => {\n",
              "      let quickchartButtonEl =\n",
              "        document.querySelector('#df-c2b26225-cfca-4aa7-842d-ab939820c63b button');\n",
              "      quickchartButtonEl.style.display =\n",
              "        google.colab.kernel.accessAllowed ? 'block' : 'none';\n",
              "    })();\n",
              "  </script>\n",
              "</div>\n",
              "\n",
              "    </div>\n",
              "  </div>\n"
            ],
            "application/vnd.google.colaboratory.intrinsic+json": {
              "type": "dataframe",
              "variable_name": "df",
              "summary": "{\n  \"name\": \"df\",\n  \"rows\": 150,\n  \"fields\": [\n    {\n      \"column\": \"sepal length (cm)\",\n      \"properties\": {\n        \"dtype\": \"number\",\n        \"std\": 0.8280661279778629,\n        \"min\": 4.3,\n        \"max\": 7.9,\n        \"num_unique_values\": 35,\n        \"samples\": [\n          6.2,\n          4.5,\n          5.6\n        ],\n        \"semantic_type\": \"\",\n        \"description\": \"\"\n      }\n    },\n    {\n      \"column\": \"sepal width (cm)\",\n      \"properties\": {\n        \"dtype\": \"number\",\n        \"std\": 0.435866284936698,\n        \"min\": 2.0,\n        \"max\": 4.4,\n        \"num_unique_values\": 23,\n        \"samples\": [\n          2.3,\n          4.0,\n          3.5\n        ],\n        \"semantic_type\": \"\",\n        \"description\": \"\"\n      }\n    },\n    {\n      \"column\": \"petal length (cm)\",\n      \"properties\": {\n        \"dtype\": \"number\",\n        \"std\": 1.7652982332594667,\n        \"min\": 1.0,\n        \"max\": 6.9,\n        \"num_unique_values\": 43,\n        \"samples\": [\n          6.7,\n          3.8,\n          3.7\n        ],\n        \"semantic_type\": \"\",\n        \"description\": \"\"\n      }\n    },\n    {\n      \"column\": \"petal width (cm)\",\n      \"properties\": {\n        \"dtype\": \"number\",\n        \"std\": 0.7622376689603465,\n        \"min\": 0.1,\n        \"max\": 2.5,\n        \"num_unique_values\": 22,\n        \"samples\": [\n          0.2,\n          1.2,\n          1.3\n        ],\n        \"semantic_type\": \"\",\n        \"description\": \"\"\n      }\n    },\n    {\n      \"column\": \"species\",\n      \"properties\": {\n        \"dtype\": \"category\",\n        \"num_unique_values\": 3,\n        \"samples\": [\n          \"setosa\",\n          \"versicolor\",\n          \"virginica\"\n        ],\n        \"semantic_type\": \"\",\n        \"description\": \"\"\n      }\n    }\n  ]\n}"
            }
          },
          "metadata": {},
          "execution_count": 6
        }
      ]
    },
    {
      "cell_type": "markdown",
      "source": [
        "Esto calculará los promedios del largo y ancho de los sépalos y pétalos para las tres especies: setosa, versicolor, y virginica"
      ],
      "metadata": {
        "id": "w-ByKZjVIedr"
      }
    },
    {
      "cell_type": "code",
      "source": [
        "# Agrupar por especie y calcular el promedio\n",
        "species_mean = df.groupby('species').mean()\n",
        "\n",
        "# Mostrar los promedios de las características\n",
        "print(species_mean)"
      ],
      "metadata": {
        "colab": {
          "base_uri": "https://localhost:8080/"
        },
        "id": "W2vFDH8xIDJp",
        "outputId": "63dd30e7-8f27-43c8-a400-0b51224a2f02"
      },
      "execution_count": null,
      "outputs": [
        {
          "output_type": "stream",
          "name": "stdout",
          "text": [
            "            sepal length (cm)  sepal width (cm)  petal length (cm)  \\\n",
            "species                                                              \n",
            "setosa                  5.006             3.428              1.462   \n",
            "versicolor              5.936             2.770              4.260   \n",
            "virginica               6.588             2.974              5.552   \n",
            "\n",
            "            petal width (cm)  \n",
            "species                       \n",
            "setosa                 0.246  \n",
            "versicolor             1.326  \n",
            "virginica              2.026  \n"
          ]
        }
      ]
    },
    {
      "cell_type": "markdown",
      "source": [
        "El código para calcular estas distancias entre los promedios es el siguiente:"
      ],
      "metadata": {
        "id": "HlTPALw-I1Gg"
      }
    },
    {
      "cell_type": "code",
      "source": [
        "import numpy as np\n",
        "\n",
        "# Funciones para calcular las distancias\n",
        "def manhattan_distance(vec1, vec2):\n",
        "    return np.sum(np.abs(vec1 - vec2))\n",
        "\n",
        "def euclidean_distance(vec1, vec2):\n",
        "    return np.sqrt(np.sum((vec1 - vec2) ** 2))\n",
        "\n",
        "# Obtener los vectores de promedios para cada especie\n",
        "setosa_mean = species_mean.loc['setosa'].values\n",
        "versicolor_mean = species_mean.loc['versicolor'].values\n",
        "virginica_mean = species_mean.loc['virginica'].values\n",
        "\n",
        "# Calcular distancias Manhattan\n",
        "manhattan_setosa_versicolor = manhattan_distance(setosa_mean, versicolor_mean)\n",
        "manhattan_setosa_virginica = manhattan_distance(setosa_mean, virginica_mean)\n",
        "manhattan_versicolor_virginica = manhattan_distance(versicolor_mean, virginica_mean)\n",
        "\n",
        "# Calcular distancias Euclidianas\n",
        "euclidean_setosa_versicolor = euclidean_distance(setosa_mean, versicolor_mean)\n",
        "euclidean_setosa_virginica = euclidean_distance(setosa_mean, virginica_mean)\n",
        "euclidean_versicolor_virginica = euclidean_distance(versicolor_mean, virginica_mean)\n",
        "\n",
        "# Mostrar los resultados\n",
        "print(f\"Distancia Manhattan Setosa vs Versicolor: {manhattan_setosa_versicolor}\")\n",
        "print(f\"Distancia Manhattan Setosa vs Virginica: {manhattan_setosa_virginica}\")\n",
        "print(f\"Distancia Manhattan Versicolor vs Virginica: {manhattan_versicolor_virginica}\")\n",
        "\n",
        "print(f\"Distancia Euclidiana Setosa vs Versicolor: {euclidean_setosa_versicolor}\")\n",
        "print(f\"Distancia Euclidiana Setosa vs Virginica: {euclidean_setosa_virginica}\")\n",
        "print(f\"Distancia Euclidiana Versicolor vs Virginica: {euclidean_versicolor_virginica}\")"
      ],
      "metadata": {
        "colab": {
          "base_uri": "https://localhost:8080/"
        },
        "id": "x8IF_BD5IKds",
        "outputId": "92356fb0-1217-4383-9a16-4b3226467695"
      },
      "execution_count": null,
      "outputs": [
        {
          "output_type": "stream",
          "name": "stdout",
          "text": [
            "Distancia Manhattan Setosa vs Versicolor: 5.465999999999999\n",
            "Distancia Manhattan Setosa vs Virginica: 7.905999999999999\n",
            "Distancia Manhattan Versicolor vs Virginica: 2.848\n",
            "Distancia Euclidiana Setosa vs Versicolor: 3.2082811597489393\n",
            "Distancia Euclidiana Setosa vs Virginica: 4.754507335150509\n",
            "Distancia Euclidiana Versicolor vs Virginica: 1.6204888151419004\n"
          ]
        }
      ]
    },
    {
      "cell_type": "markdown",
      "source": [
        "Para visualizar las distancias calculadas, podemos usar matplotlib para crear un gráfico de barras."
      ],
      "metadata": {
        "id": "Zev8NZGlJVxI"
      }
    },
    {
      "cell_type": "code",
      "source": [
        "import matplotlib.pyplot as plt\n",
        "\n",
        "# Datos para el gráfico\n",
        "species_pairs = ['Setosa vs Versicolor', 'Setosa vs Virginica', 'Versicolor vs Virginica']\n",
        "manhattan_distances = [manhattan_setosa_versicolor, manhattan_setosa_virginica, manhattan_versicolor_virginica]\n",
        "euclidean_distances = [euclidean_setosa_versicolor, euclidean_setosa_virginica, euclidean_versicolor_virginica]\n",
        "\n",
        "# Crear el gráfico de barras\n",
        "plt.figure(figsize=(10, 6))\n",
        "\n",
        "plt.bar(species_pairs, manhattan_distances, width=0.4, label='Manhattan', align='center')\n",
        "plt.bar(species_pairs, euclidean_distances, width=0.4, label='Euclidiana', align='edge')\n",
        "\n",
        "plt.xlabel('Parejas de especies')\n",
        "plt.ylabel('Distancia')\n",
        "plt.title('Distancia Manhattan y Euclidiana entre especies de Iris')\n",
        "plt.legend()\n",
        "plt.show()"
      ],
      "metadata": {
        "colab": {
          "base_uri": "https://localhost:8080/",
          "height": 564
        },
        "id": "azfhvgZiJW5h",
        "outputId": "f93ad67c-c296-4325-add3-cdc50f14f496"
      },
      "execution_count": null,
      "outputs": [
        {
          "output_type": "display_data",
          "data": {
            "text/plain": [
              "<Figure size 1000x600 with 1 Axes>"
            ],
            "image/png": "[encoded data removed]"
          },
          "metadata": {}
        }
      ]
    },
    {
      "cell_type": "markdown",
      "source": [
        "Conclusiones\n",
        "Las distancias Euclidianas serán menores que las distancias Manhattan debido a cómo se calculan las diferencias (la Manhattan es una suma de distancias absolutas, mientras que la Euclidiana toma en cuenta la raíz cuadrada de las diferencias al cuadrado).\n",
        "A partir de las distancias, podríamos deducir qué especies están más relacionadas en términos de sus características de sépalo y pétalo."
      ],
      "metadata": {
        "id": "uWTg7EyoKa4-"
      }
    },
    {
      "cell_type": "markdown",
      "source": [
        "¿Puede un modelo agrupar datos con base en estas medidas?\n",
        "\n",
        "¡Sí! Un modelo de clustering puede agrupar datos en función de estas medidas (distancia Manhattan, Euclidiana, etc.). Los algoritmos de clustering buscan agrupar datos basándose en la similitud o cercanía de sus características, y las distancias entre los puntos de datos juegan un papel crucial para definir estas similitudes.\n",
        "\n",
        "Algunos de los algoritmos de clustering más comunes que pueden usar distancias para agrupar los datos son:\n",
        "\n",
        "1. K-Means:\n",
        "Utiliza la distancia Euclidiana como métrica predeterminada para agrupar datos en k clusters.\n",
        "Este algoritmo agrupa los puntos en k clusters de tal manera que minimiza la suma de las distancias al centroide de cada cluster.\n",
        "2. Clustering Jerárquico (Hierarchical Clustering):\n",
        "Este método puede utilizar diferentes métricas de distancia, incluidas la distancia Euclidiana, Manhattan, Chebyshev, y otras.\n",
        "Agrupa los puntos de datos de manera jerárquica, construyendo un árbol de relaciones entre los puntos y agrupando según las distancias entre los clusters más cercanos.\n",
        "3. DBSCAN (Density-Based Spatial Clustering of Applications with Noise):\n",
        "Este algoritmo agrupa puntos basándose en la densidad de los datos, utilizando una métrica de distancia como Euclidiana o Manhattan.\n",
        "Identifica áreas de alta densidad de puntos y los agrupa en clusters, mientras que trata los puntos fuera de estas áreas como \"ruido\"."
      ],
      "metadata": {
        "id": "YzGRbGwsKp6p"
      }
    },
    {
      "cell_type": "code",
      "source": [
        "# Vamos a usar K-Means para agrupar el conjunto de datos Iris basándonos en sus características.\n",
        "from sklearn.cluster import KMeans\n",
        "import matplotlib.pyplot as plt\n",
        "\n",
        "# Definir el modelo de K-Means con 3 clusters\n",
        "kmeans = KMeans(n_clusters=3, random_state=0)\n",
        "\n",
        "# Ajustar el modelo con los datos de características\n",
        "kmeans.fit(df.iloc[:, :-1])\n",
        "\n",
        "# Obtener las etiquetas de los clusters\n",
        "clusters = kmeans.labels_\n",
        "\n",
        "# Añadir las etiquetas al DataFrame original\n",
        "df['cluster'] = clusters\n",
        "\n",
        "# Mostrar el DataFrame con los clusters asignados\n",
        "print(df[['species', 'cluster']])\n",
        "\n",
        "# Visualización simple de los clusters (usando las dos primeras características)\n",
        "plt.scatter(df.iloc[:, 0], df.iloc[:, 1], c=clusters, cmap='viridis')\n",
        "plt.title('Clustering K-Means en el dataset Iris')\n",
        "plt.xlabel(iris.feature_names[0])\n",
        "plt.ylabel(iris.feature_names[1])\n",
        "plt.show()"
      ],
      "metadata": {
        "colab": {
          "base_uri": "https://localhost:8080/",
          "height": 715
        },
        "id": "FdlgaXJaKdB8",
        "outputId": "bc252b99-8e09-458b-d3f2-a5ac037a621b"
      },
      "execution_count": null,
      "outputs": [
        {
          "output_type": "stream",
          "name": "stdout",
          "text": [
            "       species  cluster\n",
            "0       setosa        1\n",
            "1       setosa        1\n",
            "2       setosa        1\n",
            "3       setosa        1\n",
            "4       setosa        1\n",
            "..         ...      ...\n",
            "145  virginica        2\n",
            "146  virginica        0\n",
            "147  virginica        2\n",
            "148  virginica        2\n",
            "149  virginica        0\n",
            "\n",
            "[150 rows x 2 columns]\n"
          ]
        },
        {
          "output_type": "display_data",
          "data": {
            "text/plain": [
              "<Figure size 640x480 with 1 Axes>"
            ],
            "image/png": "[encoded data removed]"
          },
          "metadata": {}
        }
      ]
    },
    {
      "cell_type": "markdown",
      "source": [
        "Conclusión\n",
        "Los modelos de clustering como K-Means pueden agrupar los datos de Iris basándose en las distancias entre las medidas (largo y ancho de sépalo y pétalo). El uso de diferentes distancias puede afectar cómo se agrupan los datos y qué puntos se consideran similares.\n",
        "\n",
        "Distancia Euclidiana: Suele ser la más común para estos modelos, especialmente en algoritmos como K-Means.\n",
        "Distancia Manhattan: Puede ser útil cuando queremos que las diferencias absolutas jueguen un papel más relevante, por ejemplo, en casos donde las características tienen escalas diferentes."
      ],
      "metadata": {
        "id": "UzC7ToxmMtK1"
      }
    },
    {
      "cell_type": "markdown",
      "source": [
        "¿Si no se tuviese la especie de la flor como dato en el dataset, se podría encontrar cuántas especies existen? ¿Cómo se emplearía la medida de distancia para ese fin?"
      ],
      "metadata": {
        "id": "SRQFAACkNund"
      }
    },
    {
      "cell_type": "markdown",
      "source": [
        "Sí, incluso si no se tuviera la especie de la flor como dato explícito en el dataset, sí sería posible encontrar cuántas especies existen (o cuántos grupos distintos de flores hay) utilizando técnicas de clustering no supervisado. Estos métodos permiten agrupar los datos basándose en las similitudes entre las características (como las medidas del sépalo y el pétalo), sin conocer las etiquetas o clases a priori."
      ],
      "metadata": {
        "id": "bn1fJGzNNwBy"
      }
    }
  ],
  "metadata": {
    "colab": {
      "provenance": [],
      "toc_visible": true
    },
    "kernelspec": {
      "display_name": "Python 3",
      "name": "python3"
    },
    "language_info": {
      "name": "python"
    }
  },
  "nbformat": 4,
  "nbformat_minor": 0
}